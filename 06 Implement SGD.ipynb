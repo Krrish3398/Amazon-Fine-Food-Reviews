{
 "cells": [
  {
   "cell_type": "code",
   "execution_count": 1,
   "metadata": {
    "colab": {},
    "colab_type": "code",
    "id": "REYPoTJ1Af7u"
   },
   "outputs": [],
   "source": [
    "from sklearn.datasets import load_boston\n",
    "boston = load_boston()\n",
    "import warnings\n",
    "warnings.filterwarnings(\"ignore\")\n",
    "from sklearn.datasets import load_boston\n",
    "from random import seed\n",
    "from random import randrange\n",
    "from csv import reader\n",
    "from math import sqrt\n",
    "from sklearn import preprocessing\n",
    "import pandas as pd\n",
    "import numpy as np\n",
    "import matplotlib.pyplot as plt\n",
    "from prettytable import PrettyTable\n",
    "from sklearn.linear_model import SGDRegressor\n",
    "from sklearn import preprocessing\n",
    "from sklearn.metrics import mean_squared_error"
   ]
  },
  {
   "cell_type": "code",
   "execution_count": 2,
   "metadata": {
    "colab": {},
    "colab_type": "code",
    "id": "NTQ2iH-kAwbo"
   },
   "outputs": [
    {
     "name": "stdout",
     "output_type": "stream",
     "text": [
      "(506, 13)\n"
     ]
    }
   ],
   "source": [
    "print(boston.data.shape)"
   ]
  },
  {
   "cell_type": "code",
   "execution_count": 3,
   "metadata": {},
   "outputs": [],
   "source": [
    "columnNames = boston.feature_names"
   ]
  },
  {
   "cell_type": "code",
   "execution_count": 4,
   "metadata": {},
   "outputs": [
    {
     "name": "stdout",
     "output_type": "stream",
     "text": [
      "[24.  21.6 34.7 33.4 36.2 28.7 22.9 27.1 16.5 18.9 15.  18.9 21.7 20.4\n",
      " 18.2 19.9 23.1 17.5 20.2 18.2 13.6 19.6 15.2 14.5 15.6 13.9 16.6 14.8\n",
      " 18.4 21.  12.7 14.5 13.2 13.1 13.5 18.9 20.  21.  24.7 30.8 34.9 26.6\n",
      " 25.3 24.7 21.2 19.3 20.  16.6 14.4 19.4 19.7 20.5 25.  23.4 18.9 35.4\n",
      " 24.7 31.6 23.3 19.6 18.7 16.  22.2 25.  33.  23.5 19.4 22.  17.4 20.9\n",
      " 24.2 21.7 22.8 23.4 24.1 21.4 20.  20.8 21.2 20.3 28.  23.9 24.8 22.9\n",
      " 23.9 26.6 22.5 22.2 23.6 28.7 22.6 22.  22.9 25.  20.6 28.4 21.4 38.7\n",
      " 43.8 33.2 27.5 26.5 18.6 19.3 20.1 19.5 19.5 20.4 19.8 19.4 21.7 22.8\n",
      " 18.8 18.7 18.5 18.3 21.2 19.2 20.4 19.3 22.  20.3 20.5 17.3 18.8 21.4\n",
      " 15.7 16.2 18.  14.3 19.2 19.6 23.  18.4 15.6 18.1 17.4 17.1 13.3 17.8\n",
      " 14.  14.4 13.4 15.6 11.8 13.8 15.6 14.6 17.8 15.4 21.5 19.6 15.3 19.4\n",
      " 17.  15.6 13.1 41.3 24.3 23.3 27.  50.  50.  50.  22.7 25.  50.  23.8\n",
      " 23.8 22.3 17.4 19.1 23.1 23.6 22.6 29.4 23.2 24.6 29.9 37.2 39.8 36.2\n",
      " 37.9 32.5 26.4 29.6 50.  32.  29.8 34.9 37.  30.5 36.4 31.1 29.1 50.\n",
      " 33.3 30.3 34.6 34.9 32.9 24.1 42.3 48.5 50.  22.6 24.4 22.5 24.4 20.\n",
      " 21.7 19.3 22.4 28.1 23.7 25.  23.3 28.7 21.5 23.  26.7 21.7 27.5 30.1\n",
      " 44.8 50.  37.6 31.6 46.7 31.5 24.3 31.7 41.7 48.3 29.  24.  25.1 31.5\n",
      " 23.7 23.3 22.  20.1 22.2 23.7 17.6 18.5 24.3 20.5 24.5 26.2 24.4 24.8\n",
      " 29.6 42.8 21.9 20.9 44.  50.  36.  30.1 33.8 43.1 48.8 31.  36.5 22.8\n",
      " 30.7 50.  43.5 20.7 21.1 25.2 24.4 35.2 32.4 32.  33.2 33.1 29.1 35.1\n",
      " 45.4 35.4 46.  50.  32.2 22.  20.1 23.2 22.3 24.8 28.5 37.3 27.9 23.9\n",
      " 21.7 28.6 27.1 20.3 22.5 29.  24.8 22.  26.4 33.1 36.1 28.4 33.4 28.2\n",
      " 22.8 20.3 16.1 22.1 19.4 21.6 23.8 16.2 17.8 19.8 23.1 21.  23.8 23.1\n",
      " 20.4 18.5 25.  24.6 23.  22.2 19.3 22.6 19.8 17.1 19.4 22.2 20.7 21.1\n",
      " 19.5 18.5 20.6 19.  18.7 32.7 16.5 23.9 31.2 17.5 17.2 23.1 24.5 26.6\n",
      " 22.9 24.1 18.6 30.1 18.2 20.6 17.8 21.7 22.7 22.6 25.  19.9 20.8 16.8\n",
      " 21.9 27.5 21.9 23.1 50.  50.  50.  50.  50.  13.8 13.8 15.  13.9 13.3\n",
      " 13.1 10.2 10.4 10.9 11.3 12.3  8.8  7.2 10.5  7.4 10.2 11.5 15.1 23.2\n",
      "  9.7 13.8 12.7 13.1 12.5  8.5  5.   6.3  5.6  7.2 12.1  8.3  8.5  5.\n",
      " 11.9 27.9 17.2 27.5 15.  17.2 17.9 16.3  7.   7.2  7.5 10.4  8.8  8.4\n",
      " 16.7 14.2 20.8 13.4 11.7  8.3 10.2 10.9 11.   9.5 14.5 14.1 16.1 14.3\n",
      " 11.7 13.4  9.6  8.7  8.4 12.8 10.5 17.1 18.4 15.4 10.8 11.8 14.9 12.6\n",
      " 14.1 13.  13.4 15.2 16.1 17.8 14.9 14.1 12.7 13.5 14.9 20.  16.4 17.7\n",
      " 19.5 20.2 21.4 19.9 19.  19.1 19.1 20.1 19.9 19.6 23.2 29.8 13.8 13.3\n",
      " 16.7 12.  14.6 21.4 23.  23.7 25.  21.8 20.6 21.2 19.1 20.6 15.2  7.\n",
      "  8.1 13.6 20.1 21.8 24.5 23.1 19.7 18.3 21.2 17.5 16.8 22.4 20.6 23.9\n",
      " 22.  11.9]\n"
     ]
    }
   ],
   "source": [
    "print(boston.target)"
   ]
  },
  {
   "cell_type": "code",
   "execution_count": 5,
   "metadata": {},
   "outputs": [
    {
     "name": "stdout",
     "output_type": "stream",
     "text": [
      "Boston House Prices dataset\n",
      "===========================\n",
      "\n",
      "Notes\n",
      "------\n",
      "Data Set Characteristics:  \n",
      "\n",
      "    :Number of Instances: 506 \n",
      "\n",
      "    :Number of Attributes: 13 numeric/categorical predictive\n",
      "    \n",
      "    :Median Value (attribute 14) is usually the target\n",
      "\n",
      "    :Attribute Information (in order):\n",
      "        - CRIM     per capita crime rate by town\n",
      "        - ZN       proportion of residential land zoned for lots over 25,000 sq.ft.\n",
      "        - INDUS    proportion of non-retail business acres per town\n",
      "        - CHAS     Charles River dummy variable (= 1 if tract bounds river; 0 otherwise)\n",
      "        - NOX      nitric oxides concentration (parts per 10 million)\n",
      "        - RM       average number of rooms per dwelling\n",
      "        - AGE      proportion of owner-occupied units built prior to 1940\n",
      "        - DIS      weighted distances to five Boston employment centres\n",
      "        - RAD      index of accessibility to radial highways\n",
      "        - TAX      full-value property-tax rate per $10,000\n",
      "        - PTRATIO  pupil-teacher ratio by town\n",
      "        - B        1000(Bk - 0.63)^2 where Bk is the proportion of blacks by town\n",
      "        - LSTAT    % lower status of the population\n",
      "        - MEDV     Median value of owner-occupied homes in $1000's\n",
      "\n",
      "    :Missing Attribute Values: None\n",
      "\n",
      "    :Creator: Harrison, D. and Rubinfeld, D.L.\n",
      "\n",
      "This is a copy of UCI ML housing dataset.\n",
      "http://archive.ics.uci.edu/ml/datasets/Housing\n",
      "\n",
      "\n",
      "This dataset was taken from the StatLib library which is maintained at Carnegie Mellon University.\n",
      "\n",
      "The Boston house-price data of Harrison, D. and Rubinfeld, D.L. 'Hedonic\n",
      "prices and the demand for clean air', J. Environ. Economics & Management,\n",
      "vol.5, 81-102, 1978.   Used in Belsley, Kuh & Welsch, 'Regression diagnostics\n",
      "...', Wiley, 1980.   N.B. Various transformations are used in the table on\n",
      "pages 244-261 of the latter.\n",
      "\n",
      "The Boston house-price data has been used in many machine learning papers that address regression\n",
      "problems.   \n",
      "     \n",
      "**References**\n",
      "\n",
      "   - Belsley, Kuh & Welsch, 'Regression diagnostics: Identifying Influential Data and Sources of Collinearity', Wiley, 1980. 244-261.\n",
      "   - Quinlan,R. (1993). Combining Instance-Based and Model-Based Learning. In Proceedings on the Tenth International Conference of Machine Learning, 236-243, University of Massachusetts, Amherst. Morgan Kaufmann.\n",
      "   - many more! (see http://archive.ics.uci.edu/ml/datasets/Housing)\n",
      "\n"
     ]
    }
   ],
   "source": [
    "print(boston.DESCR)"
   ]
  },
  {
   "cell_type": "code",
   "execution_count": 6,
   "metadata": {},
   "outputs": [
    {
     "name": "stdout",
     "output_type": "stream",
     "text": [
      "        0     1     2    3      4      5     6       7    8      9     10  \\\n",
      "0  0.00632  18.0  2.31  0.0  0.538  6.575  65.2  4.0900  1.0  296.0  15.3   \n",
      "1  0.02731   0.0  7.07  0.0  0.469  6.421  78.9  4.9671  2.0  242.0  17.8   \n",
      "2  0.02729   0.0  7.07  0.0  0.469  7.185  61.1  4.9671  2.0  242.0  17.8   \n",
      "3  0.03237   0.0  2.18  0.0  0.458  6.998  45.8  6.0622  3.0  222.0  18.7   \n",
      "4  0.06905   0.0  2.18  0.0  0.458  7.147  54.2  6.0622  3.0  222.0  18.7   \n",
      "\n",
      "       11    12  \n",
      "0  396.90  4.98  \n",
      "1  396.90  9.14  \n",
      "2  392.83  4.03  \n",
      "3  394.63  2.94  \n",
      "4  396.90  5.33  \n"
     ]
    }
   ],
   "source": [
    "import pandas as pd\n",
    "bos = pd.DataFrame(boston.data)\n",
    "print(bos.head())"
   ]
  },
  {
   "cell_type": "code",
   "execution_count": 7,
   "metadata": {},
   "outputs": [
    {
     "data": {
      "text/plain": [
       "array(['CRIM', 'ZN', 'INDUS', 'CHAS', 'NOX', 'RM', 'AGE', 'DIS', 'RAD',\n",
       "       'TAX', 'PTRATIO', 'B', 'LSTAT'], dtype='<U7')"
      ]
     },
     "execution_count": 7,
     "metadata": {},
     "output_type": "execute_result"
    }
   ],
   "source": [
    "columnNames = boston.feature_names\n",
    "columnNames"
   ]
  },
  {
   "cell_type": "code",
   "execution_count": 8,
   "metadata": {},
   "outputs": [],
   "source": [
    "bos['PRICE'] = boston.target\n",
    "\n",
    "X = bos.drop('PRICE', axis = 1)\n",
    "Y = bos['PRICE']\n",
    "import sklearn\n",
    "from sklearn import cross_validation\n",
    "from sklearn.cross_validation import train_test_split"
   ]
  },
  {
   "cell_type": "code",
   "execution_count": 9,
   "metadata": {},
   "outputs": [
    {
     "name": "stdout",
     "output_type": "stream",
     "text": [
      "(339, 13)\n",
      "(167, 13)\n",
      "(339,)\n",
      "(167,)\n"
     ]
    }
   ],
   "source": [
    "import sklearn\n",
    "X_train, X_test, Y_train, Y_test = sklearn.cross_validation.train_test_split(X, Y, test_size = 0.33, random_state = 5)\n",
    "print(X_train.shape)\n",
    "print(X_test.shape)\n",
    "print(Y_train.shape)\n",
    "print(Y_test.shape)"
   ]
  },
  {
   "cell_type": "markdown",
   "metadata": {},
   "source": [
    "# LinearRegression"
   ]
  },
  {
   "cell_type": "code",
   "execution_count": 10,
   "metadata": {},
   "outputs": [
    {
     "data": {
      "image/png": "[encoded data removed]",
      "text/plain": [
       "<Figure size 432x288 with 1 Axes>"
      ]
     },
     "metadata": {},
     "output_type": "display_data"
    }
   ],
   "source": [
    "# code source:https://medium.com/@haydar_ai/learning-data-science-day-9-linear-regression-on-boston-housing-dataset-cd62a80775ef\n",
    "from sklearn.linear_model import LinearRegression\n",
    "\n",
    "lm = LinearRegression()\n",
    "lm.fit(X_train, Y_train)\n",
    "\n",
    "Y_pred = lm.predict(X_test)\n",
    "\n",
    "plt.scatter(Y_test, Y_pred)\n",
    "plt.xlabel(\"Prices: $Y_i$\")\n",
    "plt.ylabel(\"Predicted prices: $\\hat{Y}_i$\")\n",
    "plt.title(\"Prices vs Predicted prices: $Y_i$ vs $\\hat{Y}_i$\")\n",
    "plt.grid(True)\n",
    "plt.show()"
   ]
  },
  {
   "cell_type": "code",
   "execution_count": 11,
   "metadata": {},
   "outputs": [
    {
     "data": {
      "image/png": "[encoded data removed]",
      "text/plain": [
       "<Figure size 432x288 with 1 Axes>"
      ]
     },
     "metadata": {},
     "output_type": "display_data"
    }
   ],
   "source": [
    "delta_y = Y_test - Y_pred;\n",
    "\n",
    "import seaborn as sns;\n",
    "import numpy as np;\n",
    "sns.set_style('whitegrid')\n",
    "sns.kdeplot(np.array(delta_y), bw=0.5)\n",
    "plt.show()\n"
   ]
  },
  {
   "cell_type": "code",
   "execution_count": 12,
   "metadata": {},
   "outputs": [
    {
     "data": {
      "image/png": "[encoded data removed]",
      "text/plain": [
       "<Figure size 432x288 with 1 Axes>"
      ]
     },
     "metadata": {},
     "output_type": "display_data"
    }
   ],
   "source": [
    "sns.set_style('whitegrid')\n",
    "sns.kdeplot(np.array(Y_pred), bw=0.5)\n",
    "plt.show()"
   ]
  },
  {
   "cell_type": "code",
   "execution_count": 13,
   "metadata": {},
   "outputs": [
    {
     "data": {
      "text/plain": [
       "28.54136727561835"
      ]
     },
     "execution_count": 13,
     "metadata": {},
     "output_type": "execute_result"
    }
   ],
   "source": [
    "\n",
    "LR_MSE = mean_squared_error(Y_test, Y_pred)\n",
    "LR_MSE        "
   ]
  },
  {
   "cell_type": "code",
   "execution_count": 14,
   "metadata": {},
   "outputs": [
    {
     "name": "stdout",
     "output_type": "stream",
     "text": [
      "Mean Absolute Error  :  3.46201051681356\n",
      "Mean Squared Error  :  28.54136727561835\n",
      "Root Mean Squared Error :  5.342412121468948\n"
     ]
    }
   ],
   "source": [
    "# Calculating accuracy for Implementation of SGD from Scratch\n",
    "from sklearn.metrics import mean_absolute_error,mean_squared_error\n",
    "\n",
    "# calculate Mean Absolute Error (MAE), Mean Squared Error (MSE), Root Mean Squared Error (RMSE)\n",
    "print(\"Mean Absolute Error  : \",mean_absolute_error(Y_test, Y_pred))\n",
    "print(\"Mean Squared Error  : \",mean_squared_error(Y_test, Y_pred))\n",
    "print(\"Root Mean Squared Error : \",np.sqrt(mean_squared_error(Y_test, Y_pred)))"
   ]
  },
  {
   "cell_type": "code",
   "execution_count": 15,
   "metadata": {},
   "outputs": [],
   "source": [
    "MAE_LR = mean_absolute_error(Y_test, Y_pred)\n",
    "MSE_LR = mean_squared_error(Y_test, Y_pred)\n",
    "RMSE_LR = np.sqrt(mean_squared_error(Y_test, Y_pred))"
   ]
  },
  {
   "cell_type": "code",
   "execution_count": 16,
   "metadata": {},
   "outputs": [
    {
     "name": "stdout",
     "output_type": "stream",
     "text": [
      "Weights :[-1.56381297e-01  3.85490972e-02 -2.50629921e-02  7.86439684e-01\n",
      " -1.29469121e+01  4.00268857e+00 -1.16023395e-02 -1.36828811e+00\n",
      "  3.41756915e-01 -1.35148823e-02 -9.88866034e-01  1.20588215e-02\n",
      " -4.72644280e-01]\n"
     ]
    }
   ],
   "source": [
    "weights = lm.coef_\n",
    "print(\"Weights :\"+str(weights)) "
   ]
  },
  {
   "cell_type": "code",
   "execution_count": null,
   "metadata": {},
   "outputs": [],
   "source": []
  },
  {
   "cell_type": "markdown",
   "metadata": {},
   "source": [
    "# sklearn---SGDRegressor"
   ]
  },
  {
   "cell_type": "code",
   "execution_count": 17,
   "metadata": {},
   "outputs": [],
   "source": [
    "X = load_boston().data\n",
    "Y = load_boston().target"
   ]
  },
  {
   "cell_type": "code",
   "execution_count": 18,
   "metadata": {
    "colab": {},
    "colab_type": "code",
    "id": "FgUW39s6Be0U"
   },
   "outputs": [],
   "source": [
    "scaler = preprocessing.StandardScaler().fit(X)\n",
    "X = scaler.transform(X)"
   ]
  },
  {
   "cell_type": "code",
   "execution_count": 19,
   "metadata": {},
   "outputs": [
    {
     "name": "stdout",
     "output_type": "stream",
     "text": [
      "(339, 13)\n",
      "(167, 13)\n",
      "(339,)\n",
      "(167,)\n"
     ]
    }
   ],
   "source": [
    "\n",
    "X_train, X_test, Y_train, Y_test = sklearn.cross_validation.train_test_split(X, Y, test_size = 0.33, random_state = 5)\n",
    "print(X_train.shape)\n",
    "print(X_test.shape)\n",
    "print(Y_train.shape)\n",
    "print(Y_test.shape)\n"
   ]
  },
  {
   "cell_type": "code",
   "execution_count": 20,
   "metadata": {},
   "outputs": [
    {
     "data": {
      "text/plain": [
       "SGDRegressor(alpha=0.0001, average=False, epsilon=0.1, eta0=0.01,\n",
       "       fit_intercept=True, l1_ratio=0.15, learning_rate='invscaling',\n",
       "       loss='squared_loss', max_iter=5000, n_iter=None, penalty='none',\n",
       "       power_t=0.25, random_state=None, shuffle=True, tol=None, verbose=0,\n",
       "       warm_start=False)"
      ]
     },
     "execution_count": 20,
     "metadata": {},
     "output_type": "execute_result"
    }
   ],
   "source": [
    "from sklearn.linear_model import SGDRegressor\n",
    "clf = SGDRegressor(penalty='none',max_iter=5000)\n",
    "clf.fit(X_train,Y_train)\n"
   ]
  },
  {
   "cell_type": "code",
   "execution_count": 21,
   "metadata": {},
   "outputs": [
    {
     "data": {
      "text/plain": [
       "array([37.48149293, 31.43782835, 27.14145148,  6.41351557, 33.66045551,\n",
       "        5.61004113, 27.0406826 , 29.94658464, 26.3579881 , 22.42049964,\n",
       "       32.22926927, 21.80573055, 23.42064514, 33.64086504, 28.31262246,\n",
       "       15.16300482,  0.24106102, 18.70099141, 14.46552637, 11.0458731 ,\n",
       "        2.65040218, 19.19652388, 38.42514767, 24.3794108 , 31.67485804,\n",
       "       11.36679341, 24.94575532, 23.31380162, 22.80108385, 20.69761567,\n",
       "       16.02312958,  7.03844622, 17.60891714, 22.7676413 , 29.25597489,\n",
       "       18.5923682 , 28.39614291,  8.74726902, 41.67277019, 34.07933652,\n",
       "       20.14329083,  3.92182346, 29.7055961 , 12.13126216, 27.22039018,\n",
       "       30.68939007, -6.32642171, 19.93926011, 21.53291808, 13.33629165,\n",
       "       20.38693492, 19.89014463, 23.58938822, 13.3957255 , 17.64364873,\n",
       "       24.83206376, 35.34239093, 15.43385577, 28.536469  , 21.76117111,\n",
       "       20.57818451, 26.10725154, 14.49470266, 32.37479155, 20.77215754,\n",
       "       12.1365385 , 19.45791276, 25.26747401, 21.79580155, 21.2746399 ,\n",
       "       20.54252361, 26.75911903, 17.55453684, 18.66902663, 18.9868597 ,\n",
       "       25.83374679, 21.87142098, 15.68627365, 35.14326942, 17.99929365,\n",
       "       22.40639349, 39.40370656, 22.31633758, 14.92227416, 25.34378577,\n",
       "       17.27169732, 18.5817943 ,  9.96672559, 19.64654935, 17.29330757,\n",
       "       36.28954821, 17.55830293, 21.06794765, 19.03847371, 24.75117517,\n",
       "       28.12969488, 12.22930405, 22.44618012, 21.0210996 , 13.48780776,\n",
       "       23.06556363, 21.51704979, 14.14802426, 42.82849458,  1.92873551,\n",
       "       21.99352278, 18.27629833, 22.5615795 , 28.98510862, 18.50046678,\n",
       "       27.64786998, 24.67021741, 20.27905816, 32.72893355, 19.68408292,\n",
       "       12.79457616, 22.71025853, 18.25421057, 19.42577767, 16.21640622,\n",
       "       21.7963575 , 35.53119305, 22.26439818, 20.23868201, 24.58348638,\n",
       "       25.29980657, 20.46672403, 23.02430979, 23.38680205, 40.97663696,\n",
       "       37.85366848, 27.55413907, 12.47924287, 15.88051835, 18.20261488,\n",
       "       21.63915499, 15.74127593,  5.56862721, 24.02785397, 30.41372889,\n",
       "       23.01763248, 18.27218052, 16.20221254, 21.6328692 , 34.77794432,\n",
       "       23.36950495, 30.16936998, 18.11995902, 22.16473961, 29.14841027,\n",
       "       13.3348767 , 31.82983219, 13.11042179, 13.86805941, 26.49683412,\n",
       "       31.45471652, 10.59279884, 24.7202421 , 28.98966577, 32.33164208,\n",
       "       15.81932889, 29.99828928,  9.73080534, 34.74880319, 25.73851086,\n",
       "       20.15164101, 15.39756494])"
      ]
     },
     "execution_count": 21,
     "metadata": {},
     "output_type": "execute_result"
    }
   ],
   "source": [
    "Y_pred_skln_sgd = clf.predict(X_test)\n",
    "Y_pred_skln_sgd"
   ]
  },
  {
   "cell_type": "code",
   "execution_count": 22,
   "metadata": {},
   "outputs": [
    {
     "data": {
      "image/png": "[encoded data removed]",
      "text/plain": [
       "<Figure size 432x288 with 1 Axes>"
      ]
     },
     "metadata": {},
     "output_type": "display_data"
    }
   ],
   "source": [
    "#Scatter plot\n",
    "plt.scatter(Y_test, Y_pred_skln_sgd)\n",
    "plt.xlabel(\"Prices: $Y_i$\")\n",
    "plt.ylabel(\"Predicted prices: $\\hat{Y}_i$\")\n",
    "plt.title(\"Prices vs Predicted prices: $Y_i$ vs $\\hat{Y}_i$\")\n",
    "plt.show()"
   ]
  },
  {
   "cell_type": "code",
   "execution_count": 23,
   "metadata": {},
   "outputs": [
    {
     "data": {
      "image/png": "[encoded data removed]",
      "text/plain": [
       "<Figure size 432x288 with 1 Axes>"
      ]
     },
     "metadata": {},
     "output_type": "display_data"
    }
   ],
   "source": [
    "\n",
    "delta_y = Y_test - Y_pred_skln_sgd;\n",
    "sns.set_style('whitegrid')\n",
    "sns.kdeplot(np.array(delta_y), bw=0.5)\n",
    "plt.show()"
   ]
  },
  {
   "cell_type": "code",
   "execution_count": 24,
   "metadata": {},
   "outputs": [
    {
     "data": {
      "image/png": "[encoded data removed]",
      "text/plain": [
       "<Figure size 432x288 with 1 Axes>"
      ]
     },
     "metadata": {},
     "output_type": "display_data"
    }
   ],
   "source": [
    "sns.set_style('whitegrid')\n",
    "sns.kdeplot(np.array(Y_pred_skln_sgd), bw=0.5)\n",
    "plt.show()"
   ]
  },
  {
   "cell_type": "code",
   "execution_count": 25,
   "metadata": {},
   "outputs": [
    {
     "data": {
      "text/plain": [
       "28.59024431562468"
      ]
     },
     "execution_count": 25,
     "metadata": {},
     "output_type": "execute_result"
    }
   ],
   "source": [
    "#MSE\n",
    "MSE_SGD = mean_squared_error(Y_test, Y_pred_skln_sgd)\n",
    "MSE_SGD"
   ]
  },
  {
   "cell_type": "code",
   "execution_count": 26,
   "metadata": {},
   "outputs": [
    {
     "name": "stdout",
     "output_type": "stream",
     "text": [
      "Mean Absolute Error  :  3.4624302095845043\n",
      "Mean Squared Error  :  28.59024431562468\n",
      "Root Mean Squared Error :  5.346984600279365\n"
     ]
    }
   ],
   "source": [
    "# Calculating accuracy for Implementation of SGD from Scratch\n",
    "from sklearn.metrics import mean_absolute_error,mean_squared_error\n",
    "\n",
    "# calculate Mean Absolute Error (MAE), Mean Squared Error (MSE), Root Mean Squared Error (RMSE)\n",
    "print(\"Mean Absolute Error  : \",mean_absolute_error(Y_test, Y_pred_skln_sgd))\n",
    "print(\"Mean Squared Error  : \",mean_squared_error(Y_test, Y_pred_skln_sgd))\n",
    "print(\"Root Mean Squared Error : \",np.sqrt(mean_squared_error(Y_test, Y_pred_skln_sgd)))"
   ]
  },
  {
   "cell_type": "code",
   "execution_count": 27,
   "metadata": {},
   "outputs": [],
   "source": [
    "MAE_SGD = mean_absolute_error(Y_test, Y_pred_skln_sgd)\n",
    "MSE_SGD = mean_squared_error(Y_test, Y_pred_skln_sgd)\n",
    "RMSE_SGD = np.sqrt(mean_squared_error(Y_test, Y_pred_skln_sgd))"
   ]
  },
  {
   "cell_type": "code",
   "execution_count": 28,
   "metadata": {},
   "outputs": [
    {
     "name": "stdout",
     "output_type": "stream",
     "text": [
      "Weights :[-1.34690489  0.90257776 -0.17639831  0.20059403 -1.50456859  2.80850353\n",
      " -0.3290473  -2.87471465  2.96927764 -2.28321574 -2.14371732  1.10138341\n",
      " -3.37607688]\n"
     ]
    }
   ],
   "source": [
    "#weights\n",
    "weight_SGD = clf.coef_\n",
    "print(\"Weights :\"+str(weight_SGD))"
   ]
  },
  {
   "cell_type": "markdown",
   "metadata": {},
   "source": [
    "# Manual SGD"
   ]
  },
  {
   "cell_type": "code",
   "execution_count": 29,
   "metadata": {},
   "outputs": [],
   "source": [
    "\n",
    "df = pd.DataFrame(boston.data, columns = columnNames)\n",
    "Data_Labels = boston.target\n",
    "df[\"PRICE\"] = Data_Labels\n",
    "\n",
    "from sklearn.datasets import load_boston\n",
    "from sklearn.cross_validation import train_test_split\n",
    "from sklearn.metrics import mean_squared_error\n",
    "\n",
    "from sklearn.linear_model import SGDRegressor\n",
    "from sklearn.preprocessing import StandardScaler\n",
    "X_train, X_test, Y_train, Y_test = train_test_split(df, df[\"PRICE\"], test_size = 0.2)\n"
   ]
  },
  {
   "cell_type": "code",
   "execution_count": 30,
   "metadata": {},
   "outputs": [],
   "source": [
    "#CODE SOURCE::https://github.com/gauravtheP/Implementing-Stochastic-Gradient-Descent/blob/master/LinearRegression_SGD_BostonHomePrices.ipynb\n",
    "# function which predicts house prices.\n",
    "def pred(w, b):\n",
    "    y_pred = []\n",
    "    for i in range(102):\n",
    "        y=0\n",
    "        y = np.dot(weight, df_test.iloc[i]) + b\n",
    "        y_pred.append(y)\n",
    "    return y_pred\n"
   ]
  },
  {
   "cell_type": "code",
   "execution_count": 31,
   "metadata": {},
   "outputs": [
    {
     "name": "stdout",
     "output_type": "stream",
     "text": [
      "Weight = [-0.6436341   1.2115171   0.40514613  0.55305069 -1.36641767  3.47598559\n",
      "  0.27189611 -2.33853267  2.01652785 -2.04331132 -1.92549523  1.08664069\n",
      " -3.97198942]\n",
      "b = [24.08361587]\n"
     ]
    }
   ],
   "source": [
    "# Number of training examples\n",
    "N = X_train.shape[0]\n",
    "# defining initial random weight from normal distribution\n",
    "weight = np.random.randn(13)*np.sqrt(2/N)  \n",
    "# generating initial random y-intercept from normal distribution\n",
    "b = np.random.randn(1)*np.sqrt(2/N) \n",
    "#initializing learning rate\n",
    "learningRate = 0.2\n",
    "#initializing number of iterations to be made\n",
    "itr = 1000\n",
    "#Determining number of samples to be taken for each iteration.\n",
    "K = 20\n",
    "\n",
    "for i in range(itr):\n",
    "    \n",
    "    # Taking 10 random samples of size K.\n",
    "    sample = X_train.sample(n = K)  \n",
    "    X_drop = sample.drop(\"PRICE\", axis = 1, inplace = False)    # Removing the Price column from the Training data.\n",
    "    X_std = StandardScaler().fit_transform(X_drop)              # Standerdizing the data.\n",
    "    X = pd.DataFrame(X_std, columns = columnNames)              #creating a dataframe of standardized data.\n",
    "    Y = sample[\"PRICE\"]                                         # Adding a new column Price in the target data.\n",
    "    Partial_derivative = np.empty(13)                           #creating an empty ndarray of dimension 13(original data set dimension)\n",
    "    b_grad = 0                                                  # Initializing scalar(b) to zero.\n",
    "       \n",
    "        # The Weight vector should have the same dimension similar to the dimension of our dataset\n",
    "    for j in range(X_train.shape[1]-1):     \n",
    "        W_grad = 0\n",
    "        for k in range(10):\n",
    "            W_grad += -2 * X.iloc[k][j] * (Y.iloc[k] - np.dot(weight, X.iloc[k]) - b)  # This is a derivative of linear regression w.r.t 'w'\n",
    "        Partial_derivative[j] = W_grad\n",
    "    Partial_derivative *= learningRate         \n",
    "    \n",
    "\n",
    "    for N in range(K):\n",
    "        b_grad += -2 * (Y.iloc[N]- np.dot(weight, X.iloc[N]) - b)     # This is the derivative of linear regression w.r.t 'b'\n",
    "    b = b - learningRate * b_grad       #Updating y-intercept 'b'\n",
    "    \n",
    "    for l in range(13):\n",
    "        weight[l] -= Partial_derivative[l]  # Updating weights\n",
    "\n",
    "        \n",
    "    learningRate = 0.01 / pow(i+1, 0.25)     #changing learning rate at every iteration\n",
    "    weight = weight + 0.0001*np.dot(weight, weight)   #adding l2 regularization\n",
    "    b = b + 0.0001*np.dot(weight, weight) #adding L2 regularization\n",
    "\n",
    "print(\"Weight = \"+str(weight))\n",
    "print(\"b = \"+str(b))    "
   ]
  },
  {
   "cell_type": "code",
   "execution_count": 32,
   "metadata": {},
   "outputs": [
    {
     "name": "stdout",
     "output_type": "stream",
     "text": [
      "[-0.6436341   1.2115171   0.40514613  0.55305069 -1.36641767  3.47598559\n",
      "  0.27189611 -2.33853267  2.01652785 -2.04331132 -1.92549523  1.08664069\n",
      " -3.97198942]\n"
     ]
    }
   ],
   "source": [
    "W_manual_SGD = weight\n",
    "print(W_manual_SGD)"
   ]
  },
  {
   "cell_type": "code",
   "execution_count": 33,
   "metadata": {},
   "outputs": [],
   "source": [
    "\n",
    "import math\n",
    "test_drop = X_test.drop(\"PRICE\", axis = 1, inplace = False)\n",
    "X_test_strd = StandardScaler().fit_transform(test_drop)\n",
    "df_test = pd.DataFrame(X_test_strd,columns = columnNames)\n",
    "test_labels = Y_test\n",
    "\n",
    "y_pred1=pred(w=weight, b=b)\n",
    "\n",
    "\n",
    "    \n",
    "y_true = []\n",
    "for i in range(102):\n",
    "    y_true.append(test_labels.iloc[i])\n",
    "\n",
    "\n"
   ]
  },
  {
   "cell_type": "code",
   "execution_count": 34,
   "metadata": {},
   "outputs": [
    {
     "data": {
      "text/html": [
       "<div>\n",
       "<style scoped>\n",
       "    .dataframe tbody tr th:only-of-type {\n",
       "        vertical-align: middle;\n",
       "    }\n",
       "\n",
       "    .dataframe tbody tr th {\n",
       "        vertical-align: top;\n",
       "    }\n",
       "\n",
       "    .dataframe thead th {\n",
       "        text-align: right;\n",
       "    }\n",
       "</style>\n",
       "<table border=\"1\" class=\"dataframe\">\n",
       "  <thead>\n",
       "    <tr style=\"text-align: right;\">\n",
       "      <th></th>\n",
       "      <th>True Labels</th>\n",
       "      <th>Predicted Labels</th>\n",
       "    </tr>\n",
       "  </thead>\n",
       "  <tbody>\n",
       "    <tr>\n",
       "      <th>91</th>\n",
       "      <td>22.0</td>\n",
       "      <td>[30.510892498760803]</td>\n",
       "    </tr>\n",
       "    <tr>\n",
       "      <th>250</th>\n",
       "      <td>24.4</td>\n",
       "      <td>[28.22153481628068]</td>\n",
       "    </tr>\n",
       "    <tr>\n",
       "      <th>11</th>\n",
       "      <td>18.9</td>\n",
       "      <td>[25.289370065005116]</td>\n",
       "    </tr>\n",
       "    <tr>\n",
       "      <th>313</th>\n",
       "      <td>21.6</td>\n",
       "      <td>[29.025321192099476]</td>\n",
       "    </tr>\n",
       "    <tr>\n",
       "      <th>103</th>\n",
       "      <td>19.3</td>\n",
       "      <td>[22.84192308445045]</td>\n",
       "    </tr>\n",
       "    <tr>\n",
       "      <th>256</th>\n",
       "      <td>44.0</td>\n",
       "      <td>[44.30614291399458]</td>\n",
       "    </tr>\n",
       "    <tr>\n",
       "      <th>79</th>\n",
       "      <td>20.3</td>\n",
       "      <td>[24.48098633053393]</td>\n",
       "    </tr>\n",
       "    <tr>\n",
       "      <th>18</th>\n",
       "      <td>20.2</td>\n",
       "      <td>[17.35257831535594]</td>\n",
       "    </tr>\n",
       "    <tr>\n",
       "      <th>22</th>\n",
       "      <td>15.2</td>\n",
       "      <td>[18.82530062212826]</td>\n",
       "    </tr>\n",
       "    <tr>\n",
       "      <th>247</th>\n",
       "      <td>20.5</td>\n",
       "      <td>[24.012699940892915]</td>\n",
       "    </tr>\n",
       "    <tr>\n",
       "      <th>124</th>\n",
       "      <td>18.8</td>\n",
       "      <td>[23.5037118523718]</td>\n",
       "    </tr>\n",
       "    <tr>\n",
       "      <th>335</th>\n",
       "      <td>21.1</td>\n",
       "      <td>[23.670713043549345]</td>\n",
       "    </tr>\n",
       "    <tr>\n",
       "      <th>175</th>\n",
       "      <td>29.4</td>\n",
       "      <td>[33.77968215375651]</td>\n",
       "    </tr>\n",
       "    <tr>\n",
       "      <th>431</th>\n",
       "      <td>14.1</td>\n",
       "      <td>[21.335787839737293]</td>\n",
       "    </tr>\n",
       "    <tr>\n",
       "      <th>181</th>\n",
       "      <td>36.2</td>\n",
       "      <td>[29.876410555546194]</td>\n",
       "    </tr>\n",
       "  </tbody>\n",
       "</table>\n",
       "</div>"
      ],
      "text/plain": [
       "     True Labels      Predicted Labels\n",
       "91          22.0  [30.510892498760803]\n",
       "250         24.4   [28.22153481628068]\n",
       "11          18.9  [25.289370065005116]\n",
       "313         21.6  [29.025321192099476]\n",
       "103         19.3   [22.84192308445045]\n",
       "256         44.0   [44.30614291399458]\n",
       "79          20.3   [24.48098633053393]\n",
       "18          20.2   [17.35257831535594]\n",
       "22          15.2   [18.82530062212826]\n",
       "247         20.5  [24.012699940892915]\n",
       "124         18.8    [23.5037118523718]\n",
       "335         21.1  [23.670713043549345]\n",
       "175         29.4   [33.77968215375651]\n",
       "431         14.1  [21.335787839737293]\n",
       "181         36.2  [29.876410555546194]"
      ]
     },
     "execution_count": 34,
     "metadata": {},
     "output_type": "execute_result"
    }
   ],
   "source": [
    "d1 = {'True Labels': Y_test, 'Predicted Labels': y_pred1}\n",
    "df1 = pd.DataFrame(data = d1)\n",
    "df1.head(15)"
   ]
  },
  {
   "cell_type": "code",
   "execution_count": 35,
   "metadata": {},
   "outputs": [
    {
     "data": {
      "image/png": "[encoded data removed]",
      "text/plain": [
       "<Figure size 432x288 with 1 Axes>"
      ]
     },
     "metadata": {},
     "output_type": "display_data"
    }
   ],
   "source": [
    "y_pred = np.array(y_pred1)\n",
    "y_predicted = y_pred.ravel()\n",
    "plt.scatter(y_true, y_predicted)\n",
    "plt.xlabel(\"Prices: $Y_i$\")\n",
    "plt.ylabel(\"Predicted prices: $\\hat{Y}_i$\")\n",
    "plt.title(\"Prices vs Predicted prices: $Y_i$ vs $\\hat{Y}_i$\")\n",
    "plt.grid(True)\n",
    "plt.show()\n"
   ]
  },
  {
   "cell_type": "code",
   "execution_count": 36,
   "metadata": {},
   "outputs": [
    {
     "data": {
      "text/plain": [
       "27.533951601938302"
      ]
     },
     "execution_count": 36,
     "metadata": {},
     "output_type": "execute_result"
    }
   ],
   "source": [
    "Mean_Sq_Error_sgd_manual = mean_squared_error(y_true, y_predicted)\n",
    "Mean_Sq_Error_sgd_manual"
   ]
  },
  {
   "cell_type": "code",
   "execution_count": null,
   "metadata": {},
   "outputs": [],
   "source": []
  },
  {
   "cell_type": "code",
   "execution_count": 37,
   "metadata": {},
   "outputs": [
    {
     "data": {
      "image/png": "[encoded data removed]",
      "text/plain": [
       "<Figure size 432x288 with 1 Axes>"
      ]
     },
     "metadata": {},
     "output_type": "display_data"
    }
   ],
   "source": [
    "#pdf\n",
    "\n",
    "delta_y = Y_test - y_predicted;\n",
    "\n",
    "import seaborn as sns;\n",
    "import numpy as np;\n",
    "sns.set_style('whitegrid')\n",
    "sns.kdeplot(np.array(delta_y), bw=0.5)\n",
    "plt.show()"
   ]
  },
  {
   "cell_type": "code",
   "execution_count": 38,
   "metadata": {},
   "outputs": [
    {
     "data": {
      "image/png": "[encoded data removed]",
      "text/plain": [
       "<Figure size 432x288 with 1 Axes>"
      ]
     },
     "metadata": {},
     "output_type": "display_data"
    }
   ],
   "source": [
    "sns.set_style('whitegrid')\n",
    "sns.kdeplot(np.array(y_predicted), bw=0.5)\n",
    "plt.show()"
   ]
  },
  {
   "cell_type": "code",
   "execution_count": 45,
   "metadata": {},
   "outputs": [
    {
     "name": "stdout",
     "output_type": "stream",
     "text": [
      "Mean Absolute Error  :  4.497889667051391\n",
      "Mean Squared Error  :  27.533951601938302\n",
      "Root Mean Squared Error :  5.247280400544486\n"
     ]
    }
   ],
   "source": [
    "# Calculating accuracy for Implementation of SGD from Scratch\n",
    "from sklearn.metrics import mean_absolute_error,mean_squared_error\n",
    "\n",
    "# calculate Mean Absolute Error (MAE), Mean Squared Error (MSE), Root Mean Squared Error (RMSE)\n",
    "print(\"Mean Absolute Error  : \",mean_absolute_error(y_true, y_predicted))\n",
    "print(\"Mean Squared Error  : \",mean_squared_error(y_true, y_predicted))\n",
    "print(\"Root Mean Squared Error : \",np.sqrt(mean_squared_error(y_true, y_predicted)))"
   ]
  },
  {
   "cell_type": "code",
   "execution_count": 51,
   "metadata": {},
   "outputs": [],
   "source": [
    "MAE_SGD_manual = mean_absolute_error(y_true, y_predicted)\n",
    "MSE_SGD_manual = mean_squared_error(y_true, y_predicted)\n",
    "RMSE_SGD_manual = np.sqrt(mean_squared_error(y_true, y_predicted))"
   ]
  },
  {
   "cell_type": "markdown",
   "metadata": {},
   "source": [
    "# Conclusions"
   ]
  },
  {
   "cell_type": "code",
   "execution_count": 52,
   "metadata": {},
   "outputs": [
    {
     "name": "stdout",
     "output_type": "stream",
     "text": [
      "Weights of Linear Regression :[-1.56381297e-01  3.85490972e-02 -2.50629921e-02  7.86439684e-01\n",
      " -1.29469121e+01  4.00268857e+00 -1.16023395e-02 -1.36828811e+00\n",
      "  3.41756915e-01 -1.35148823e-02 -9.88866034e-01  1.20588215e-02\n",
      " -4.72644280e-01]\n",
      "****************************************************************************************************\n",
      "Weights of SGDRegressor :[-1.34690489  0.90257776 -0.17639831  0.20059403 -1.50456859  2.80850353\n",
      " -0.3290473  -2.87471465  2.96927764 -2.28321574 -2.14371732  1.10138341\n",
      " -3.37607688]\n",
      "****************************************************************************************************\n",
      "Weights of ManualSGD = [-0.6436341   1.2115171   0.40514613  0.55305069 -1.36641767  3.47598559\n",
      "  0.27189611 -2.33853267  2.01652785 -2.04331132 -1.92549523  1.08664069\n",
      " -3.97198942]\n"
     ]
    }
   ],
   "source": [
    "print(\"Weights of Linear Regression :\"+str(weights)) \n",
    "print(\"*\"*100)\n",
    "weight = clf.coef_\n",
    "print(\"Weights of SGDRegressor :\"+str(weight_SGD))\n",
    "print(\"*\"*100)\n",
    "print(\"Weights of ManualSGD = \"+str(W_manual_SGD))"
   ]
  },
  {
   "cell_type": "code",
   "execution_count": 53,
   "metadata": {},
   "outputs": [
    {
     "name": "stdout",
     "output_type": "stream",
     "text": [
      "MSE : Linear Regression  28.54136727561835\n",
      "**************************************************\n",
      "MSE : SGD  28.59024431562468\n",
      "**************************************************\n",
      "MSE : Manual SGD  27.533951601938302\n"
     ]
    }
   ],
   "source": [
    "print (\"MSE : Linear Regression  \"+str(LR_MSE))\n",
    "print(\"*\"*50)\n",
    "print (\"MSE : SGD  \"  +str(MSE_SGD))\n",
    "print(\"*\"*50)\n",
    "print (\"MSE : Manual SGD  \"+str(Mean_Sq_Error_sgd_manual))"
   ]
  },
  {
   "cell_type": "markdown",
   "metadata": {},
   "source": [
    "*So the mean squared errors obtained for Linear Regression, sklearn SGD are same but Manual SGD is decreased by 1 unit .\n",
    "The results/plots obtained by lr and sklearn sgd are very similar where most of the errors are at zero.*\n"
   ]
  },
  {
   "cell_type": "code",
   "execution_count": 55,
   "metadata": {},
   "outputs": [
    {
     "name": "stdout",
     "output_type": "stream",
     "text": [
      "+--------------------+---------------------------+-------------------------+-------------------------------+\n",
      "|       Model        |  Mean Absolute Error(MAE) | Mean Squared Error(MSE) | Root Mean Squared Error(RMSE) |\n",
      "+--------------------+---------------------------+-------------------------+-------------------------------+\n",
      "| Linear Regression  |      3.46201051681356     |    28.54136727561835    |       5.342412121468948       |\n",
      "|        SGD         |     3.4624302095845043    |    28.59024431562468    |       5.346984600279365       |\n",
      "|     Manual SGD     |     4.497889667051391     |    27.533951601938302   |       5.247280400544486       |\n",
      "+--------------------+---------------------------+-------------------------+-------------------------------+\n"
     ]
    }
   ],
   "source": [
    "ptable1 = PrettyTable()\n",
    "\n",
    "ptable1.field_names = [\"Model\",\" Mean Absolute Error(MAE)\", \"Mean Squared Error(MSE)\", \"Root Mean Squared Error(RMSE)\"]\n",
    "ptable1.add_row([\"Linear Regression \",MAE_LR,MSE_LR,RMSE_LR])\n",
    "ptable1.add_row([\"SGD\",MAE_SGD,MSE_SGD,RMSE_SGD])\n",
    "ptable1.add_row([\" Manual SGD\",MAE_SGD_manual,MSE_SGD_manual,RMSE_SGD_manual])\n",
    "print(ptable1)"
   ]
  },
  {
   "cell_type": "markdown",
   "metadata": {},
   "source": [
    "*The Mean Squared Errors(MSE) for LR and SGD are '28.5',and for ManualSGD the (MSE) is '27.5'. *\n"
   ]
  },
  {
   "cell_type": "markdown",
   "metadata": {},
   "source": [
    "# Procedure"
   ]
  },
  {
   "cell_type": "markdown",
   "metadata": {},
   "source": [
    "* Imported Boston dataset.\n",
    "* Using sklearn's Linear Regression, SGD and implementing manual SGD,predict the house prices and compare it with the original prices.\n",
    "* Obtained a scatter plot for error = y_test - y_predicted.\n",
    "* Computed weight wector.\n",
    "* Computed MSE.\n",
    "* Using prettytable compared the MSE  for the above 3 Models."
   ]
  },
  {
   "cell_type": "code",
   "execution_count": null,
   "metadata": {},
   "outputs": [],
   "source": []
  }
 ],
 "metadata": {
  "colab": {
   "name": "Untitled3.ipynb",
   "provenance": [],
   "version": "0.3.2"
  },
  "kernelspec": {
   "display_name": "Python 3",
   "language": "python",
   "name": "python3"
  },
  "language_info": {
   "codemirror_mode": {
    "name": "ipython",
    "version": 3
   },
   "file_extension": ".py",
   "mimetype": "text/x-python",
   "name": "python",
   "nbconvert_exporter": "python",
   "pygments_lexer": "ipython3",
   "version": "3.6.5"
  }
 },
 "nbformat": 4,
 "nbformat_minor": 1
}
